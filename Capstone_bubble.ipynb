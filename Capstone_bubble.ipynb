{
 "cells": [
  {
   "cell_type": "markdown",
   "metadata": {},
   "source": [
    "#### Where should one open a bubble tea shop in Singapore?"
   ]
  },
  {
   "cell_type": "markdown",
   "metadata": {},
   "source": [
    "Introduction\n"
   ]
  },
  {
   "cell_type": "markdown",
   "metadata": {},
   "source": [
    "\n",
    "Bubble tea is a drink that is immensely popular in Southeast Asia, and has experienced a resurgence in popularity in recent years [1][2]. Although there was a lull in the expansion of the industry, it is now seeing a revival with new chains from China such as The Alley and Heytea entering the market. Globally, the bubble tea market is expected to reach 3.2 billion by 2023 [3], with Asia Pacific projected to be the second fastest growing region for the market. In this project, I will examine where a businessman, hoping to capitalize on this growing market, should open a bubble tea shop in Singapore. I will utilize foursquare API data to locate clusters of bubble tea shops, which indicates the current level of competition. Additionally, I will also utilize demographic data and overlap the two, to examine if there are regions that have a higher proportion of youths (which tend to drink more bubble tea) but have a lower proportion of bubble tea shops, which would indicate an opportunity to open a bubble tea shop."
   ]
  },
  {
   "cell_type": "markdown",
   "metadata": {},
   "source": [
    "Data"
   ]
  },
  {
   "cell_type": "markdown",
   "metadata": {},
   "source": [
    "While Singapore utilizes postal codes, there is a lack of granular public data (see Wikipedia [4]). The Singapore government splits the country up in 55 planning areas and 324 subzones from planning and statistical purposes. Hence, for the purpose of this project, I will be utilizing geographic data of the 324 subzones to represent neighbourhoods in Singapore. Geographic coordinates of each subzone are downloaded from a public Tableau map, where a csv file was generated [5].\n",
    "Foursquare API data is used to identify clusters and density of bubble tea shops in the various subzones in Singapore.\n",
    "Demographic data (2018) for each subzone was scraped from citypopulation.de [6].\n",
    "\n",
    "\n",
    "\n",
    "\n",
    "\n",
    "\n",
    "1.\thttps://www.mintel.com/blog/foodservice-market-news/milk-tea-craze-bubbles-up-in-southeast-asia\n",
    "2.\thttps://www.straitstimes.com/videos/consuming-singapore-the-obsession-with-bubble-tea\n",
    "3.\thttps://www.alliedmarketresearch.com/press-release/bubble-tea-market.html\n",
    "4.\thttps://en.wikipedia.org/wiki/Postal_codes_in_Singapore\n",
    "5.\thttps://public.tableau.com/profile/solomon.teo#!/vizhome/FacebookCheckin/SubZone\n",
    "6.\thttps://www.citypopulation.de/php/singapore-admin.php\n"
   ]
  },
  {
   "cell_type": "code",
   "execution_count": null,
   "metadata": {},
   "outputs": [],
   "source": []
  }
 ],
 "metadata": {
  "kernelspec": {
   "display_name": "Python",
   "language": "python",
   "name": "conda-env-python-py"
  },
  "language_info": {
   "codemirror_mode": {
    "name": "ipython",
    "version": 3
   },
   "file_extension": ".py",
   "mimetype": "text/x-python",
   "name": "python",
   "nbconvert_exporter": "python",
   "pygments_lexer": "ipython3",
   "version": "3.6.7"
  }
 },
 "nbformat": 4,
 "nbformat_minor": 4
}
